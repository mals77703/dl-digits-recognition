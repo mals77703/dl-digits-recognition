{
  "nbformat": 4,
  "nbformat_minor": 0,
  "metadata": {
    "colab": {
      "provenance": [],
      "gpuType": "T4",
      "authorship_tag": "ABX9TyOF9Q+PHYqtJgjhvSUAq1OK",
      "include_colab_link": true
    },
    "kernelspec": {
      "name": "python3",
      "display_name": "Python 3"
    },
    "language_info": {
      "name": "python"
    },
    "accelerator": "GPU"
  },
  "cells": [
    {
      "cell_type": "markdown",
      "metadata": {
        "id": "view-in-github",
        "colab_type": "text"
      },
      "source": [
        "<a href=\"https://colab.research.google.com/github/mals77703/dl-digits-recognition/blob/core/MNIST_Handwritten_Digits_Recognition.ipynb\" target=\"_parent\"><img src=\"https://colab.research.google.com/assets/colab-badge.svg\" alt=\"Open In Colab\"/></a>"
      ]
    },
    {
      "cell_type": "code",
      "execution_count": null,
      "metadata": {
        "colab": {
          "base_uri": "https://localhost:8080/"
        },
        "id": "g_cVqss974B2",
        "outputId": "84be7c67-5130-4b95-d4b3-196417d0e15f"
      },
      "outputs": [
        {
          "output_type": "stream",
          "name": "stdout",
          "text": [
            "Collecting tensorflow-gpu\n",
            "  Using cached tensorflow-gpu-2.12.0.tar.gz (2.6 kB)\n",
            "  \u001b[1;31merror\u001b[0m: \u001b[1msubprocess-exited-with-error\u001b[0m\n",
            "  \n",
            "  \u001b[31m×\u001b[0m \u001b[32mpython setup.py egg_info\u001b[0m did not run successfully.\n",
            "  \u001b[31m│\u001b[0m exit code: \u001b[1;36m1\u001b[0m\n",
            "  \u001b[31m╰─>\u001b[0m See above for output.\n",
            "  \n",
            "  \u001b[1;35mnote\u001b[0m: This error originates from a subprocess, and is likely not a problem with pip.\n",
            "  Preparing metadata (setup.py) ... \u001b[?25l\u001b[?25herror\n",
            "\u001b[1;31merror\u001b[0m: \u001b[1mmetadata-generation-failed\u001b[0m\n",
            "\n",
            "\u001b[31m×\u001b[0m Encountered error while generating package metadata.\n",
            "\u001b[31m╰─>\u001b[0m See above for output.\n",
            "\n",
            "\u001b[1;35mnote\u001b[0m: This is an issue with the package mentioned above, not pip.\n",
            "\u001b[1;36mhint\u001b[0m: See above for details.\n"
          ]
        }
      ],
      "source": [
        "!pip install tensorflow-gpu keras"
      ]
    },
    {
      "cell_type": "code",
      "source": [
        "import pandas as pd\n",
        "import numpy as np\n",
        "from tqdm.notebook import tqdm\n",
        "from keras.preprocessing.image import img_to_array, load_img\n",
        "import tensorflow as tf\n",
        "import matplotlib.pyplot as plt\n",
        "%matplotlib inline\n",
        "import warnings\n",
        "\n",
        "warnings.filterwarnings('ignore')"
      ],
      "metadata": {
        "id": "wQETvWd882ES"
      },
      "execution_count": null,
      "outputs": []
    },
    {
      "cell_type": "code",
      "source": [],
      "metadata": {
        "id": "ngDw8Kpo-sGX"
      },
      "execution_count": null,
      "outputs": []
    },
    {
      "cell_type": "code",
      "source": [
        "!unzip /Train_UQcUa52.zip"
      ],
      "metadata": {
        "colab": {
          "base_uri": "https://localhost:8080/"
        },
        "id": "9iEgMBaw9kmc",
        "outputId": "5632bc3c-606d-45a9-bac1-a8fda8b3184e"
      },
      "execution_count": null,
      "outputs": [
        {
          "output_type": "stream",
          "name": "stdout",
          "text": [
            "Archive:  /Train_UQcUa52.zip\n",
            "replace Images/test/49000.png? [y]es, [n]o, [A]ll, [N]one, [r]ename: "
          ]
        }
      ]
    },
    {
      "cell_type": "code",
      "source": [
        "df = pd.read_csv('train.csv')\n",
        "df.head()"
      ],
      "metadata": {
        "colab": {
          "base_uri": "https://localhost:8080/",
          "height": 206
        },
        "id": "0A1JCrvw9u7Q",
        "outputId": "54aa4ab9-a71b-4a7b-97f7-ef7401f2fcd6"
      },
      "execution_count": null,
      "outputs": [
        {
          "output_type": "execute_result",
          "data": {
            "text/plain": [
              "  filename  label\n",
              "0    0.png      4\n",
              "1    1.png      9\n",
              "2    2.png      1\n",
              "3    3.png      7\n",
              "4    4.png      3"
            ],
            "text/html": [
              "\n",
              "  <div id=\"df-333997ce-f2eb-4e9e-a04e-35e5f259d3f1\" class=\"colab-df-container\">\n",
              "    <div>\n",
              "<style scoped>\n",
              "    .dataframe tbody tr th:only-of-type {\n",
              "        vertical-align: middle;\n",
              "    }\n",
              "\n",
              "    .dataframe tbody tr th {\n",
              "        vertical-align: top;\n",
              "    }\n",
              "\n",
              "    .dataframe thead th {\n",
              "        text-align: right;\n",
              "    }\n",
              "</style>\n",
              "<table border=\"1\" class=\"dataframe\">\n",
              "  <thead>\n",
              "    <tr style=\"text-align: right;\">\n",
              "      <th></th>\n",
              "      <th>filename</th>\n",
              "      <th>label</th>\n",
              "    </tr>\n",
              "  </thead>\n",
              "  <tbody>\n",
              "    <tr>\n",
              "      <th>0</th>\n",
              "      <td>0.png</td>\n",
              "      <td>4</td>\n",
              "    </tr>\n",
              "    <tr>\n",
              "      <th>1</th>\n",
              "      <td>1.png</td>\n",
              "      <td>9</td>\n",
              "    </tr>\n",
              "    <tr>\n",
              "      <th>2</th>\n",
              "      <td>2.png</td>\n",
              "      <td>1</td>\n",
              "    </tr>\n",
              "    <tr>\n",
              "      <th>3</th>\n",
              "      <td>3.png</td>\n",
              "      <td>7</td>\n",
              "    </tr>\n",
              "    <tr>\n",
              "      <th>4</th>\n",
              "      <td>4.png</td>\n",
              "      <td>3</td>\n",
              "    </tr>\n",
              "  </tbody>\n",
              "</table>\n",
              "</div>\n",
              "    <div class=\"colab-df-buttons\">\n",
              "\n",
              "  <div class=\"colab-df-container\">\n",
              "    <button class=\"colab-df-convert\" onclick=\"convertToInteractive('df-333997ce-f2eb-4e9e-a04e-35e5f259d3f1')\"\n",
              "            title=\"Convert this dataframe to an interactive table.\"\n",
              "            style=\"display:none;\">\n",
              "\n",
              "  <svg xmlns=\"http://www.w3.org/2000/svg\" height=\"24px\" viewBox=\"0 -960 960 960\">\n",
              "    <path d=\"M120-120v-720h720v720H120Zm60-500h600v-160H180v160Zm220 220h160v-160H400v160Zm0 220h160v-160H400v160ZM180-400h160v-160H180v160Zm440 0h160v-160H620v160ZM180-180h160v-160H180v160Zm440 0h160v-160H620v160Z\"/>\n",
              "  </svg>\n",
              "    </button>\n",
              "\n",
              "  <style>\n",
              "    .colab-df-container {\n",
              "      display:flex;\n",
              "      gap: 12px;\n",
              "    }\n",
              "\n",
              "    .colab-df-convert {\n",
              "      background-color: #E8F0FE;\n",
              "      border: none;\n",
              "      border-radius: 50%;\n",
              "      cursor: pointer;\n",
              "      display: none;\n",
              "      fill: #1967D2;\n",
              "      height: 32px;\n",
              "      padding: 0 0 0 0;\n",
              "      width: 32px;\n",
              "    }\n",
              "\n",
              "    .colab-df-convert:hover {\n",
              "      background-color: #E2EBFA;\n",
              "      box-shadow: 0px 1px 2px rgba(60, 64, 67, 0.3), 0px 1px 3px 1px rgba(60, 64, 67, 0.15);\n",
              "      fill: #174EA6;\n",
              "    }\n",
              "\n",
              "    .colab-df-buttons div {\n",
              "      margin-bottom: 4px;\n",
              "    }\n",
              "\n",
              "    [theme=dark] .colab-df-convert {\n",
              "      background-color: #3B4455;\n",
              "      fill: #D2E3FC;\n",
              "    }\n",
              "\n",
              "    [theme=dark] .colab-df-convert:hover {\n",
              "      background-color: #434B5C;\n",
              "      box-shadow: 0px 1px 3px 1px rgba(0, 0, 0, 0.15);\n",
              "      filter: drop-shadow(0px 1px 2px rgba(0, 0, 0, 0.3));\n",
              "      fill: #FFFFFF;\n",
              "    }\n",
              "  </style>\n",
              "\n",
              "    <script>\n",
              "      const buttonEl =\n",
              "        document.querySelector('#df-333997ce-f2eb-4e9e-a04e-35e5f259d3f1 button.colab-df-convert');\n",
              "      buttonEl.style.display =\n",
              "        google.colab.kernel.accessAllowed ? 'block' : 'none';\n",
              "\n",
              "      async function convertToInteractive(key) {\n",
              "        const element = document.querySelector('#df-333997ce-f2eb-4e9e-a04e-35e5f259d3f1');\n",
              "        const dataTable =\n",
              "          await google.colab.kernel.invokeFunction('convertToInteractive',\n",
              "                                                    [key], {});\n",
              "        if (!dataTable) return;\n",
              "\n",
              "        const docLinkHtml = 'Like what you see? Visit the ' +\n",
              "          '<a target=\"_blank\" href=https://colab.research.google.com/notebooks/data_table.ipynb>data table notebook</a>'\n",
              "          + ' to learn more about interactive tables.';\n",
              "        element.innerHTML = '';\n",
              "        dataTable['output_type'] = 'display_data';\n",
              "        await google.colab.output.renderOutput(dataTable, element);\n",
              "        const docLink = document.createElement('div');\n",
              "        docLink.innerHTML = docLinkHtml;\n",
              "        element.appendChild(docLink);\n",
              "      }\n",
              "    </script>\n",
              "  </div>\n",
              "\n",
              "\n",
              "<div id=\"df-a1b8cc0e-ba8f-4ebb-8ece-b610310ab5fe\">\n",
              "  <button class=\"colab-df-quickchart\" onclick=\"quickchart('df-a1b8cc0e-ba8f-4ebb-8ece-b610310ab5fe')\"\n",
              "            title=\"Suggest charts\"\n",
              "            style=\"display:none;\">\n",
              "\n",
              "<svg xmlns=\"http://www.w3.org/2000/svg\" height=\"24px\"viewBox=\"0 0 24 24\"\n",
              "     width=\"24px\">\n",
              "    <g>\n",
              "        <path d=\"M19 3H5c-1.1 0-2 .9-2 2v14c0 1.1.9 2 2 2h14c1.1 0 2-.9 2-2V5c0-1.1-.9-2-2-2zM9 17H7v-7h2v7zm4 0h-2V7h2v10zm4 0h-2v-4h2v4z\"/>\n",
              "    </g>\n",
              "</svg>\n",
              "  </button>\n",
              "\n",
              "<style>\n",
              "  .colab-df-quickchart {\n",
              "      --bg-color: #E8F0FE;\n",
              "      --fill-color: #1967D2;\n",
              "      --hover-bg-color: #E2EBFA;\n",
              "      --hover-fill-color: #174EA6;\n",
              "      --disabled-fill-color: #AAA;\n",
              "      --disabled-bg-color: #DDD;\n",
              "  }\n",
              "\n",
              "  [theme=dark] .colab-df-quickchart {\n",
              "      --bg-color: #3B4455;\n",
              "      --fill-color: #D2E3FC;\n",
              "      --hover-bg-color: #434B5C;\n",
              "      --hover-fill-color: #FFFFFF;\n",
              "      --disabled-bg-color: #3B4455;\n",
              "      --disabled-fill-color: #666;\n",
              "  }\n",
              "\n",
              "  .colab-df-quickchart {\n",
              "    background-color: var(--bg-color);\n",
              "    border: none;\n",
              "    border-radius: 50%;\n",
              "    cursor: pointer;\n",
              "    display: none;\n",
              "    fill: var(--fill-color);\n",
              "    height: 32px;\n",
              "    padding: 0;\n",
              "    width: 32px;\n",
              "  }\n",
              "\n",
              "  .colab-df-quickchart:hover {\n",
              "    background-color: var(--hover-bg-color);\n",
              "    box-shadow: 0 1px 2px rgba(60, 64, 67, 0.3), 0 1px 3px 1px rgba(60, 64, 67, 0.15);\n",
              "    fill: var(--button-hover-fill-color);\n",
              "  }\n",
              "\n",
              "  .colab-df-quickchart-complete:disabled,\n",
              "  .colab-df-quickchart-complete:disabled:hover {\n",
              "    background-color: var(--disabled-bg-color);\n",
              "    fill: var(--disabled-fill-color);\n",
              "    box-shadow: none;\n",
              "  }\n",
              "\n",
              "  .colab-df-spinner {\n",
              "    border: 2px solid var(--fill-color);\n",
              "    border-color: transparent;\n",
              "    border-bottom-color: var(--fill-color);\n",
              "    animation:\n",
              "      spin 1s steps(1) infinite;\n",
              "  }\n",
              "\n",
              "  @keyframes spin {\n",
              "    0% {\n",
              "      border-color: transparent;\n",
              "      border-bottom-color: var(--fill-color);\n",
              "      border-left-color: var(--fill-color);\n",
              "    }\n",
              "    20% {\n",
              "      border-color: transparent;\n",
              "      border-left-color: var(--fill-color);\n",
              "      border-top-color: var(--fill-color);\n",
              "    }\n",
              "    30% {\n",
              "      border-color: transparent;\n",
              "      border-left-color: var(--fill-color);\n",
              "      border-top-color: var(--fill-color);\n",
              "      border-right-color: var(--fill-color);\n",
              "    }\n",
              "    40% {\n",
              "      border-color: transparent;\n",
              "      border-right-color: var(--fill-color);\n",
              "      border-top-color: var(--fill-color);\n",
              "    }\n",
              "    60% {\n",
              "      border-color: transparent;\n",
              "      border-right-color: var(--fill-color);\n",
              "    }\n",
              "    80% {\n",
              "      border-color: transparent;\n",
              "      border-right-color: var(--fill-color);\n",
              "      border-bottom-color: var(--fill-color);\n",
              "    }\n",
              "    90% {\n",
              "      border-color: transparent;\n",
              "      border-bottom-color: var(--fill-color);\n",
              "    }\n",
              "  }\n",
              "</style>\n",
              "\n",
              "  <script>\n",
              "    async function quickchart(key) {\n",
              "      const quickchartButtonEl =\n",
              "        document.querySelector('#' + key + ' button');\n",
              "      quickchartButtonEl.disabled = true;  // To prevent multiple clicks.\n",
              "      quickchartButtonEl.classList.add('colab-df-spinner');\n",
              "      try {\n",
              "        const charts = await google.colab.kernel.invokeFunction(\n",
              "            'suggestCharts', [key], {});\n",
              "      } catch (error) {\n",
              "        console.error('Error during call to suggestCharts:', error);\n",
              "      }\n",
              "      quickchartButtonEl.classList.remove('colab-df-spinner');\n",
              "      quickchartButtonEl.classList.add('colab-df-quickchart-complete');\n",
              "    }\n",
              "    (() => {\n",
              "      let quickchartButtonEl =\n",
              "        document.querySelector('#df-a1b8cc0e-ba8f-4ebb-8ece-b610310ab5fe button');\n",
              "      quickchartButtonEl.style.display =\n",
              "        google.colab.kernel.accessAllowed ? 'block' : 'none';\n",
              "    })();\n",
              "  </script>\n",
              "</div>\n",
              "\n",
              "    </div>\n",
              "  </div>\n"
            ],
            "application/vnd.google.colaboratory.intrinsic+json": {
              "type": "dataframe",
              "variable_name": "df",
              "summary": "{\n  \"name\": \"df\",\n  \"rows\": 49000,\n  \"fields\": [\n    {\n      \"column\": \"filename\",\n      \"properties\": {\n        \"dtype\": \"string\",\n        \"num_unique_values\": 49000,\n        \"samples\": [\n          \"43348.png\",\n          \"25828.png\",\n          \"29616.png\"\n        ],\n        \"semantic_type\": \"\",\n        \"description\": \"\"\n      }\n    },\n    {\n      \"column\": \"label\",\n      \"properties\": {\n        \"dtype\": \"number\",\n        \"std\": 2,\n        \"min\": 0,\n        \"max\": 9,\n        \"num_unique_values\": 10,\n        \"samples\": [\n          8,\n          9,\n          2\n        ],\n        \"semantic_type\": \"\",\n        \"description\": \"\"\n      }\n    }\n  ]\n}"
            }
          },
          "metadata": {},
          "execution_count": 4
        }
      ]
    },
    {
      "cell_type": "code",
      "source": [
        "!pwd"
      ],
      "metadata": {
        "colab": {
          "base_uri": "https://localhost:8080/"
        },
        "id": "3_VcyPUy9y3C",
        "outputId": "1b9ca0bd-38b1-403d-c6c1-4df827406d1b"
      },
      "execution_count": null,
      "outputs": [
        {
          "output_type": "stream",
          "name": "stdout",
          "text": [
            "/content\n"
          ]
        }
      ]
    },
    {
      "cell_type": "code",
      "source": [
        "image_path = 'Images/train/'"
      ],
      "metadata": {
        "id": "dtQLO7xB92dE"
      },
      "execution_count": null,
      "outputs": []
    },
    {
      "cell_type": "code",
      "source": [
        "!pip install --upgrade keras\n",
        "from keras.preprocessing.image import load_img, img_to_array\n",
        "from tqdm import tqdm\n",
        "import numpy as np"
      ],
      "metadata": {
        "colab": {
          "base_uri": "https://localhost:8080/"
        },
        "id": "Pf19LZRo-a4k",
        "outputId": "841a93b3-9006-4a75-a4c3-0c22945c2daa"
      },
      "execution_count": null,
      "outputs": [
        {
          "output_type": "stream",
          "name": "stdout",
          "text": [
            "Requirement already satisfied: keras in /usr/local/lib/python3.10/dist-packages (3.5.0)\n",
            "Requirement already satisfied: absl-py in /usr/local/lib/python3.10/dist-packages (from keras) (1.4.0)\n",
            "Requirement already satisfied: numpy in /usr/local/lib/python3.10/dist-packages (from keras) (1.26.4)\n",
            "Requirement already satisfied: rich in /usr/local/lib/python3.10/dist-packages (from keras) (13.7.1)\n",
            "Requirement already satisfied: namex in /usr/local/lib/python3.10/dist-packages (from keras) (0.0.8)\n",
            "Requirement already satisfied: h5py in /usr/local/lib/python3.10/dist-packages (from keras) (3.11.0)\n",
            "Requirement already satisfied: optree in /usr/local/lib/python3.10/dist-packages (from keras) (0.12.1)\n",
            "Requirement already satisfied: ml-dtypes in /usr/local/lib/python3.10/dist-packages (from keras) (0.4.0)\n",
            "Requirement already satisfied: packaging in /usr/local/lib/python3.10/dist-packages (from keras) (24.1)\n",
            "Requirement already satisfied: typing-extensions>=4.5.0 in /usr/local/lib/python3.10/dist-packages (from optree->keras) (4.12.2)\n",
            "Requirement already satisfied: markdown-it-py>=2.2.0 in /usr/local/lib/python3.10/dist-packages (from rich->keras) (3.0.0)\n",
            "Requirement already satisfied: pygments<3.0.0,>=2.13.0 in /usr/local/lib/python3.10/dist-packages (from rich->keras) (2.16.1)\n",
            "Requirement already satisfied: mdurl~=0.1 in /usr/local/lib/python3.10/dist-packages (from markdown-it-py>=2.2.0->rich->keras) (0.1.2)\n"
          ]
        }
      ]
    },
    {
      "cell_type": "code",
      "source": [
        "X = np.array([img_to_array(load_img(image_path+df['filename'][i], target_size=(28,28,1),  color_mode='grayscale'))\n",
        "              for i in tqdm(range(df.shape[0]))\n",
        "              ]).astype('float32')"
      ],
      "metadata": {
        "colab": {
          "base_uri": "https://localhost:8080/"
        },
        "id": "5wm0OY0595nc",
        "outputId": "7c653ea1-2a58-419c-f0f1-e51948eea37b"
      },
      "execution_count": null,
      "outputs": [
        {
          "output_type": "stream",
          "name": "stderr",
          "text": [
            "\n",
            "  0%|          | 0/49000 [00:00<?, ?it/s]\u001b[A\n",
            "  1%|          | 349/49000 [00:00<00:13, 3489.39it/s]\u001b[A\n",
            "  1%|▏         | 698/49000 [00:00<00:14, 3442.81it/s]\u001b[A\n",
            "  2%|▏         | 1043/49000 [00:00<00:14, 3374.20it/s]\u001b[A\n",
            "  3%|▎         | 1396/49000 [00:00<00:13, 3432.73it/s]\u001b[A\n",
            "  4%|▎         | 1764/49000 [00:00<00:13, 3519.33it/s]\u001b[A\n",
            "  4%|▍         | 2124/49000 [00:00<00:13, 3545.84it/s]\u001b[A\n",
            "  5%|▌         | 2479/49000 [00:00<00:13, 3371.60it/s]\u001b[A\n",
            "  6%|▌         | 2818/49000 [00:00<00:14, 3290.37it/s]\u001b[A\n",
            "  6%|▋         | 3164/49000 [00:00<00:13, 3340.89it/s]\u001b[A\n",
            "  7%|▋         | 3500/49000 [00:01<00:13, 3319.82it/s]\u001b[A\n",
            "  8%|▊         | 3833/49000 [00:01<00:14, 3166.75it/s]\u001b[A\n",
            "  8%|▊         | 4152/49000 [00:01<00:14, 3153.43it/s]\u001b[A\n",
            "  9%|▉         | 4469/49000 [00:01<00:14, 3042.10it/s]\u001b[A\n",
            " 10%|▉         | 4775/49000 [00:01<00:14, 2972.22it/s]\u001b[A\n",
            " 10%|█         | 5078/49000 [00:01<00:14, 2985.91it/s]\u001b[A\n",
            " 11%|█         | 5403/49000 [00:01<00:14, 3060.05it/s]\u001b[A\n",
            " 12%|█▏        | 5723/49000 [00:01<00:13, 3098.57it/s]\u001b[A\n",
            " 12%|█▏        | 6034/49000 [00:01<00:13, 3098.80it/s]\u001b[A\n",
            " 13%|█▎        | 6345/49000 [00:01<00:13, 3083.29it/s]\u001b[A\n",
            " 14%|█▎        | 6664/49000 [00:02<00:13, 3113.79it/s]\u001b[A\n",
            " 14%|█▍        | 6976/49000 [00:02<00:13, 3095.61it/s]\u001b[A\n",
            " 15%|█▍        | 7307/49000 [00:02<00:13, 3158.29it/s]\u001b[A\n",
            " 16%|█▌        | 7685/49000 [00:02<00:12, 3343.09it/s]\u001b[A\n",
            " 17%|█▋        | 8123/49000 [00:02<00:11, 3652.18it/s]\u001b[A\n",
            " 18%|█▊        | 8617/49000 [00:02<00:10, 4036.78it/s]\u001b[A\n",
            " 19%|█▊        | 9136/49000 [00:02<00:09, 4381.00it/s]\u001b[A\n",
            " 20%|█▉        | 9628/49000 [00:02<00:08, 4540.11it/s]\u001b[A\n",
            " 21%|██        | 10188/49000 [00:02<00:07, 4855.87it/s]\u001b[A\n",
            " 22%|██▏       | 10728/49000 [00:02<00:07, 5016.33it/s]\u001b[A\n",
            " 23%|██▎       | 11268/49000 [00:03<00:07, 5130.57it/s]\u001b[A\n",
            " 24%|██▍       | 11815/49000 [00:03<00:07, 5231.93it/s]\u001b[A\n",
            " 25%|██▌       | 12339/49000 [00:03<00:07, 5118.29it/s]\u001b[A\n",
            " 26%|██▌       | 12852/49000 [00:03<00:07, 4734.72it/s]\u001b[A\n",
            " 27%|██▋       | 13332/49000 [00:03<00:07, 4711.41it/s]\u001b[A\n",
            " 28%|██▊       | 13848/49000 [00:03<00:07, 4837.80it/s]\u001b[A\n",
            " 29%|██▉       | 14399/49000 [00:03<00:06, 5031.24it/s]\u001b[A\n",
            " 30%|███       | 14906/49000 [00:03<00:06, 4932.50it/s]\u001b[A\n",
            " 31%|███▏      | 15404/49000 [00:03<00:06, 4944.95it/s]\u001b[A\n",
            " 33%|███▎      | 15959/49000 [00:04<00:06, 5121.86it/s]\u001b[A\n",
            " 34%|███▎      | 16473/49000 [00:04<00:06, 5116.13it/s]\u001b[A\n",
            " 35%|███▍      | 16986/49000 [00:04<00:06, 5006.21it/s]\u001b[A\n",
            " 36%|███▌      | 17488/49000 [00:04<00:06, 4792.84it/s]\u001b[A\n",
            " 37%|███▋      | 17970/49000 [00:04<00:06, 4647.73it/s]\u001b[A\n",
            " 38%|███▊      | 18494/49000 [00:04<00:06, 4815.09it/s]\u001b[A\n",
            " 39%|███▉      | 19018/49000 [00:04<00:06, 4936.68it/s]\u001b[A\n",
            " 40%|███▉      | 19556/49000 [00:04<00:05, 5065.30it/s]\u001b[A\n",
            " 41%|████      | 20065/49000 [00:04<00:05, 4964.56it/s]\u001b[A\n",
            " 42%|████▏     | 20605/49000 [00:04<00:05, 5088.75it/s]\u001b[A\n",
            " 43%|████▎     | 21116/49000 [00:05<00:05, 4789.87it/s]\u001b[A\n",
            " 44%|████▍     | 21639/49000 [00:05<00:05, 4913.91it/s]\u001b[A\n",
            " 45%|████▌     | 22150/49000 [00:05<00:05, 4969.09it/s]\u001b[A\n",
            " 46%|████▌     | 22650/49000 [00:05<00:05, 4620.11it/s]\u001b[A\n",
            " 47%|████▋     | 23147/49000 [00:05<00:05, 4715.14it/s]\u001b[A\n",
            " 48%|████▊     | 23647/49000 [00:05<00:05, 4793.77it/s]\u001b[A\n",
            " 49%|████▉     | 24131/49000 [00:05<00:05, 4699.01it/s]\u001b[A\n",
            " 50%|█████     | 24604/49000 [00:05<00:05, 4637.75it/s]\u001b[A\n",
            " 51%|█████▏    | 25136/49000 [00:05<00:04, 4833.80it/s]\u001b[A\n",
            " 52%|█████▏    | 25674/49000 [00:06<00:04, 4991.61it/s]\u001b[A\n",
            " 53%|█████▎    | 26207/49000 [00:06<00:04, 5090.70it/s]\u001b[A\n",
            " 55%|█████▍    | 26745/49000 [00:06<00:04, 5174.61it/s]\u001b[A\n",
            " 56%|█████▌    | 27264/49000 [00:06<00:04, 4947.94it/s]\u001b[A\n",
            " 57%|█████▋    | 27762/49000 [00:06<00:04, 4809.69it/s]\u001b[A\n",
            " 58%|█████▊    | 28258/49000 [00:06<00:04, 4851.08it/s]\u001b[A\n",
            " 59%|█████▉    | 28799/49000 [00:06<00:04, 5010.81it/s]\u001b[A\n",
            " 60%|█████▉    | 29326/49000 [00:06<00:03, 5085.68it/s]\u001b[A\n",
            " 61%|██████    | 29837/49000 [00:06<00:03, 5033.95it/s]\u001b[A\n",
            " 62%|██████▏   | 30389/49000 [00:06<00:03, 5174.99it/s]\u001b[A\n",
            " 63%|██████▎   | 30923/49000 [00:07<00:03, 5222.53it/s]\u001b[A\n",
            " 64%|██████▍   | 31447/49000 [00:07<00:03, 5159.94it/s]\u001b[A\n",
            " 65%|██████▌   | 32004/49000 [00:07<00:03, 5279.72it/s]\u001b[A\n",
            " 66%|██████▋   | 32533/49000 [00:07<00:03, 4796.30it/s]\u001b[A\n",
            " 67%|██████▋   | 33062/49000 [00:07<00:03, 4931.65it/s]\u001b[A\n",
            " 68%|██████▊   | 33563/49000 [00:07<00:03, 4856.63it/s]\u001b[A\n",
            " 70%|██████▉   | 34083/49000 [00:07<00:03, 4952.51it/s]\u001b[A\n",
            " 71%|███████   | 34609/49000 [00:07<00:02, 5038.26it/s]\u001b[A\n",
            " 72%|███████▏  | 35116/49000 [00:07<00:02, 4889.33it/s]\u001b[A\n",
            " 73%|███████▎  | 35668/49000 [00:08<00:02, 5070.31it/s]\u001b[A\n",
            " 74%|███████▍  | 36219/49000 [00:08<00:02, 5198.10it/s]\u001b[A\n",
            " 75%|███████▍  | 36742/49000 [00:08<00:02, 5184.95it/s]\u001b[A\n",
            " 76%|███████▌  | 37263/49000 [00:08<00:02, 4960.63it/s]\u001b[A\n",
            " 77%|███████▋  | 37762/49000 [00:08<00:02, 4740.21it/s]\u001b[A\n",
            " 78%|███████▊  | 38260/49000 [00:08<00:02, 4805.63it/s]\u001b[A\n",
            " 79%|███████▉  | 38790/49000 [00:08<00:02, 4943.27it/s]\u001b[A\n",
            " 80%|████████  | 39348/49000 [00:08<00:01, 5125.46it/s]\u001b[A\n",
            " 81%|████████▏ | 39898/49000 [00:08<00:01, 5232.48it/s]\u001b[A\n",
            " 82%|████████▏ | 40424/49000 [00:08<00:01, 5083.65it/s]\u001b[A\n",
            " 84%|████████▎ | 40955/49000 [00:09<00:01, 5149.00it/s]\u001b[A\n",
            " 85%|████████▍ | 41484/49000 [00:09<00:01, 5188.52it/s]\u001b[A\n",
            " 86%|████████▌ | 42005/49000 [00:09<00:01, 5021.59it/s]\u001b[A\n",
            " 87%|████████▋ | 42510/49000 [00:09<00:01, 4705.18it/s]\u001b[A\n",
            " 88%|████████▊ | 42995/49000 [00:09<00:01, 4743.57it/s]\u001b[A\n",
            " 89%|████████▉ | 43514/49000 [00:09<00:01, 4869.33it/s]\u001b[A\n",
            " 90%|████████▉ | 44046/49000 [00:09<00:00, 4998.04it/s]\u001b[A\n",
            " 91%|█████████ | 44592/49000 [00:09<00:00, 5130.96it/s]\u001b[A\n",
            " 92%|█████████▏| 45108/49000 [00:09<00:00, 5115.60it/s]\u001b[A\n",
            " 93%|█████████▎| 45622/49000 [00:10<00:00, 5073.08it/s]\u001b[A\n",
            " 94%|█████████▍| 46131/49000 [00:10<00:00, 5031.02it/s]\u001b[A\n",
            " 95%|█████████▌| 46635/49000 [00:10<00:00, 4891.64it/s]\u001b[A\n",
            " 96%|█████████▌| 47126/49000 [00:10<00:00, 4676.41it/s]\u001b[A\n",
            " 97%|█████████▋| 47596/49000 [00:10<00:00, 4627.57it/s]\u001b[A\n",
            " 98%|█████████▊| 48143/49000 [00:10<00:00, 4865.47it/s]\u001b[A\n",
            "100%|██████████| 49000/49000 [00:10<00:00, 4578.33it/s]\n"
          ]
        }
      ]
    },
    {
      "cell_type": "code",
      "source": [
        "y = df['label']"
      ],
      "metadata": {
        "id": "a1tW_YFF-ODY"
      },
      "execution_count": null,
      "outputs": []
    },
    {
      "cell_type": "code",
      "source": [
        "print(X.shape, y.shape)"
      ],
      "metadata": {
        "colab": {
          "base_uri": "https://localhost:8080/"
        },
        "id": "OaNtM73m-QH5",
        "outputId": "903e6cb9-8c8a-42fa-ac3d-61deaafce684"
      },
      "execution_count": null,
      "outputs": [
        {
          "output_type": "stream",
          "name": "stdout",
          "text": [
            "(49000, 28, 28, 1) (49000,)\n"
          ]
        }
      ]
    },
    {
      "cell_type": "markdown",
      "source": [
        "**Exploratory Data Analysis**"
      ],
      "metadata": {
        "id": "_gbp2xC0-6Uc"
      }
    },
    {
      "cell_type": "code",
      "source": [
        "image_index = 0\n",
        "print(y[image_index])\n",
        "plt.imshow(X[image_index].reshape(28,28), cmap='Greys')"
      ],
      "metadata": {
        "colab": {
          "base_uri": "https://localhost:8080/",
          "height": 465
        },
        "id": "E_wnCmf1-2Tc",
        "outputId": "516b2870-14e3-44d6-ee82-ff6bcedad730"
      },
      "execution_count": null,
      "outputs": [
        {
          "output_type": "stream",
          "name": "stdout",
          "text": [
            "4\n"
          ]
        },
        {
          "output_type": "execute_result",
          "data": {
            "text/plain": [
              "<matplotlib.image.AxesImage at 0x79e5b8a2a2f0>"
            ]
          },
          "metadata": {},
          "execution_count": 12
        },
        {
          "output_type": "display_data",
          "data": {
            "text/plain": [
              "<Figure size 640x480 with 1 Axes>"
            ],
            "image/png": "[encoded data removed]"
          },
          "metadata": {}
        }
      ]
    },
    {
      "cell_type": "code",
      "source": [
        "image_index = 10\n",
        "print(y[image_index])\n",
        "plt.imshow(X[image_index].reshape(28,28), cmap='Greys')"
      ],
      "metadata": {
        "colab": {
          "base_uri": "https://localhost:8080/",
          "height": 465
        },
        "id": "P59gwRT__AF8",
        "outputId": "80164fc8-d667-49e2-ad90-e92578eb1bf5"
      },
      "execution_count": null,
      "outputs": [
        {
          "output_type": "stream",
          "name": "stdout",
          "text": [
            "2\n"
          ]
        },
        {
          "output_type": "execute_result",
          "data": {
            "text/plain": [
              "<matplotlib.image.AxesImage at 0x79e5b840fc10>"
            ]
          },
          "metadata": {},
          "execution_count": 13
        },
        {
          "output_type": "display_data",
          "data": {
            "text/plain": [
              "<Figure size 640x480 with 1 Axes>"
            ],
            "image/png": "[encoded data removed]"
          },
          "metadata": {}
        }
      ]
    },
    {
      "cell_type": "code",
      "source": [
        "image_index = 100\n",
        "print(y[image_index])\n",
        "plt.imshow(X[image_index].reshape(28,28), cmap='Greys')"
      ],
      "metadata": {
        "colab": {
          "base_uri": "https://localhost:8080/",
          "height": 465
        },
        "id": "xDF8Q_0B_DKc",
        "outputId": "329fcb03-a881-4011-bca9-d3a6bccdc359"
      },
      "execution_count": null,
      "outputs": [
        {
          "output_type": "stream",
          "name": "stdout",
          "text": [
            "7\n"
          ]
        },
        {
          "output_type": "execute_result",
          "data": {
            "text/plain": [
              "<matplotlib.image.AxesImage at 0x79e5b8498df0>"
            ]
          },
          "metadata": {},
          "execution_count": 14
        },
        {
          "output_type": "display_data",
          "data": {
            "text/plain": [
              "<Figure size 640x480 with 1 Axes>"
            ],
            "image/png": "[encoded data removed]"
          },
          "metadata": {}
        }
      ]
    },
    {
      "cell_type": "markdown",
      "source": [
        "**Train-Test Split**"
      ],
      "metadata": {
        "id": "gA0YXBLW_LSU"
      }
    },
    {
      "cell_type": "code",
      "source": [
        "from sklearn.model_selection import train_test_split\n",
        "x_train, x_test, y_train, y_test = train_test_split(X, y, test_size=0.25, random_state=42, stratify=np.array(y))"
      ],
      "metadata": {
        "id": "pdqopFkR_F3z"
      },
      "execution_count": null,
      "outputs": []
    },
    {
      "cell_type": "markdown",
      "source": [
        "**Normalization**"
      ],
      "metadata": {
        "id": "Rux1t4n-_Urs"
      }
    },
    {
      "cell_type": "code",
      "source": [
        "#x_train[0]"
      ],
      "metadata": {
        "id": "xUFvECkS_ckc"
      },
      "execution_count": null,
      "outputs": []
    },
    {
      "cell_type": "code",
      "source": [
        "x_train /= 255\n",
        "x_test /= 255"
      ],
      "metadata": {
        "id": "8ae24pUb_gp0"
      },
      "execution_count": null,
      "outputs": []
    },
    {
      "cell_type": "code",
      "source": [
        "#x_train[0]"
      ],
      "metadata": {
        "id": "lXWMigOb_onE"
      },
      "execution_count": null,
      "outputs": []
    },
    {
      "cell_type": "markdown",
      "source": [
        "**Model Creation**"
      ],
      "metadata": {
        "id": "FWc-LxWt_u8O"
      }
    },
    {
      "cell_type": "code",
      "source": [
        "input_shape = (28,28,1)\n",
        "output_class = 10"
      ],
      "metadata": {
        "id": "ZdYRGGiO_rtj"
      },
      "execution_count": null,
      "outputs": []
    },
    {
      "cell_type": "code",
      "source": [
        "from keras.models import Sequential\n",
        "from keras.layers import Dense, Conv2D, Dropout, Flatten, MaxPooling2D\n",
        "\n",
        "# define the model\n",
        "model = Sequential()\n",
        "model.add(Conv2D(28, kernel_size=(3,3), input_shape=input_shape))\n",
        "model.add(MaxPooling2D(pool_size=(2,2)))\n",
        "model.add(Flatten())\n",
        "model.add(Dense(128, activation=tf.nn.relu))\n",
        "model.add(Dropout(0.3))\n",
        "model.add(Dense(output_class, activation=tf.nn.softmax))\n",
        "\n",
        "model.compile(optimizer='adam',\n",
        "              loss='sparse_categorical_crossentropy',\n",
        "              metrics=['accuracy'])"
      ],
      "metadata": {
        "id": "xWREKBzG_zA0"
      },
      "execution_count": null,
      "outputs": []
    },
    {
      "cell_type": "code",
      "source": [
        "# train the model\n",
        "model.fit(x=x_train, y=y_train, batch_size=32, epochs=30, validation_data=(x_test, y_test))"
      ],
      "metadata": {
        "colab": {
          "base_uri": "https://localhost:8080/"
        },
        "id": "kUZFziBL_2ac",
        "outputId": "fcc653aa-435a-48d0-bc84-c9cb327efc18"
      },
      "execution_count": null,
      "outputs": [
        {
          "output_type": "stream",
          "name": "stdout",
          "text": [
            "Epoch 1/30\n"
          ]
        },
        {
          "output_type": "stream",
          "name": "stderr",
          "text": [
            "\r  0%|          | 0/49000 [06:22<?, ?it/s]\n"
          ]
        },
        {
          "output_type": "stream",
          "name": "stdout",
          "text": [
            "\u001b[1m1149/1149\u001b[0m \u001b[32m━━━━━━━━━━━━━━━━━━━━\u001b[0m\u001b[37m\u001b[0m \u001b[1m10s\u001b[0m 5ms/step - accuracy: 0.8589 - loss: 0.4576 - val_accuracy: 0.9620 - val_loss: 0.1243\n",
            "Epoch 2/30\n",
            "\u001b[1m1149/1149\u001b[0m \u001b[32m━━━━━━━━━━━━━━━━━━━━\u001b[0m\u001b[37m\u001b[0m \u001b[1m3s\u001b[0m 2ms/step - accuracy: 0.9628 - loss: 0.1246 - val_accuracy: 0.9751 - val_loss: 0.0814\n",
            "Epoch 3/30\n",
            "\u001b[1m1149/1149\u001b[0m \u001b[32m━━━━━━━━━━━━━━━━━━━━\u001b[0m\u001b[37m\u001b[0m \u001b[1m6s\u001b[0m 3ms/step - accuracy: 0.9725 - loss: 0.0856 - val_accuracy: 0.9771 - val_loss: 0.0729\n",
            "Epoch 4/30\n",
            "\u001b[1m1149/1149\u001b[0m \u001b[32m━━━━━━━━━━━━━━━━━━━━\u001b[0m\u001b[37m\u001b[0m \u001b[1m3s\u001b[0m 3ms/step - accuracy: 0.9825 - loss: 0.0578 - val_accuracy: 0.9767 - val_loss: 0.0758\n",
            "Epoch 5/30\n",
            "\u001b[1m1149/1149\u001b[0m \u001b[32m━━━━━━━━━━━━━━━━━━━━\u001b[0m\u001b[37m\u001b[0m \u001b[1m5s\u001b[0m 2ms/step - accuracy: 0.9844 - loss: 0.0470 - val_accuracy: 0.9810 - val_loss: 0.0663\n",
            "Epoch 6/30\n",
            "\u001b[1m1149/1149\u001b[0m \u001b[32m━━━━━━━━━━━━━━━━━━━━\u001b[0m\u001b[37m\u001b[0m \u001b[1m6s\u001b[0m 3ms/step - accuracy: 0.9881 - loss: 0.0367 - val_accuracy: 0.9812 - val_loss: 0.0668\n",
            "Epoch 7/30\n",
            "\u001b[1m1149/1149\u001b[0m \u001b[32m━━━━━━━━━━━━━━━━━━━━\u001b[0m\u001b[37m\u001b[0m \u001b[1m4s\u001b[0m 2ms/step - accuracy: 0.9890 - loss: 0.0326 - val_accuracy: 0.9827 - val_loss: 0.0656\n",
            "Epoch 8/30\n",
            "\u001b[1m1149/1149\u001b[0m \u001b[32m━━━━━━━━━━━━━━━━━━━━\u001b[0m\u001b[37m\u001b[0m \u001b[1m3s\u001b[0m 2ms/step - accuracy: 0.9906 - loss: 0.0288 - val_accuracy: 0.9812 - val_loss: 0.0723\n",
            "Epoch 9/30\n",
            "\u001b[1m1149/1149\u001b[0m \u001b[32m━━━━━━━━━━━━━━━━━━━━\u001b[0m\u001b[37m\u001b[0m \u001b[1m6s\u001b[0m 3ms/step - accuracy: 0.9908 - loss: 0.0264 - val_accuracy: 0.9819 - val_loss: 0.0690\n",
            "Epoch 10/30\n",
            "\u001b[1m1149/1149\u001b[0m \u001b[32m━━━━━━━━━━━━━━━━━━━━\u001b[0m\u001b[37m\u001b[0m \u001b[1m3s\u001b[0m 2ms/step - accuracy: 0.9911 - loss: 0.0254 - val_accuracy: 0.9832 - val_loss: 0.0686\n",
            "Epoch 11/30\n",
            "\u001b[1m1149/1149\u001b[0m \u001b[32m━━━━━━━━━━━━━━━━━━━━\u001b[0m\u001b[37m\u001b[0m \u001b[1m5s\u001b[0m 2ms/step - accuracy: 0.9918 - loss: 0.0245 - val_accuracy: 0.9818 - val_loss: 0.0718\n",
            "Epoch 12/30\n",
            "\u001b[1m1149/1149\u001b[0m \u001b[32m━━━━━━━━━━━━━━━━━━━━\u001b[0m\u001b[37m\u001b[0m \u001b[1m6s\u001b[0m 3ms/step - accuracy: 0.9925 - loss: 0.0208 - val_accuracy: 0.9812 - val_loss: 0.0780\n",
            "Epoch 13/30\n",
            "\u001b[1m1149/1149\u001b[0m \u001b[32m━━━━━━━━━━━━━━━━━━━━\u001b[0m\u001b[37m\u001b[0m \u001b[1m3s\u001b[0m 2ms/step - accuracy: 0.9932 - loss: 0.0192 - val_accuracy: 0.9825 - val_loss: 0.0748\n",
            "Epoch 14/30\n",
            "\u001b[1m1149/1149\u001b[0m \u001b[32m━━━━━━━━━━━━━━━━━━━━\u001b[0m\u001b[37m\u001b[0m \u001b[1m5s\u001b[0m 2ms/step - accuracy: 0.9930 - loss: 0.0200 - val_accuracy: 0.9824 - val_loss: 0.0813\n",
            "Epoch 15/30\n",
            "\u001b[1m1149/1149\u001b[0m \u001b[32m━━━━━━━━━━━━━━━━━━━━\u001b[0m\u001b[37m\u001b[0m \u001b[1m4s\u001b[0m 3ms/step - accuracy: 0.9943 - loss: 0.0176 - val_accuracy: 0.9836 - val_loss: 0.0816\n",
            "Epoch 16/30\n",
            "\u001b[1m1149/1149\u001b[0m \u001b[32m━━━━━━━━━━━━━━━━━━━━\u001b[0m\u001b[37m\u001b[0m \u001b[1m4s\u001b[0m 2ms/step - accuracy: 0.9938 - loss: 0.0169 - val_accuracy: 0.9829 - val_loss: 0.0817\n",
            "Epoch 17/30\n",
            "\u001b[1m1149/1149\u001b[0m \u001b[32m━━━━━━━━━━━━━━━━━━━━\u001b[0m\u001b[37m\u001b[0m \u001b[1m5s\u001b[0m 2ms/step - accuracy: 0.9947 - loss: 0.0156 - val_accuracy: 0.9843 - val_loss: 0.0829\n",
            "Epoch 18/30\n",
            "\u001b[1m1149/1149\u001b[0m \u001b[32m━━━━━━━━━━━━━━━━━━━━\u001b[0m\u001b[37m\u001b[0m \u001b[1m5s\u001b[0m 2ms/step - accuracy: 0.9960 - loss: 0.0121 - val_accuracy: 0.9824 - val_loss: 0.0931\n",
            "Epoch 19/30\n",
            "\u001b[1m1149/1149\u001b[0m \u001b[32m━━━━━━━━━━━━━━━━━━━━\u001b[0m\u001b[37m\u001b[0m \u001b[1m5s\u001b[0m 2ms/step - accuracy: 0.9948 - loss: 0.0145 - val_accuracy: 0.9833 - val_loss: 0.0867\n",
            "Epoch 20/30\n",
            "\u001b[1m1149/1149\u001b[0m \u001b[32m━━━━━━━━━━━━━━━━━━━━\u001b[0m\u001b[37m\u001b[0m \u001b[1m6s\u001b[0m 3ms/step - accuracy: 0.9946 - loss: 0.0163 - val_accuracy: 0.9814 - val_loss: 0.0850\n",
            "Epoch 21/30\n",
            "\u001b[1m1149/1149\u001b[0m \u001b[32m━━━━━━━━━━━━━━━━━━━━\u001b[0m\u001b[37m\u001b[0m \u001b[1m4s\u001b[0m 2ms/step - accuracy: 0.9951 - loss: 0.0142 - val_accuracy: 0.9842 - val_loss: 0.0794\n",
            "Epoch 22/30\n",
            "\u001b[1m1149/1149\u001b[0m \u001b[32m━━━━━━━━━━━━━━━━━━━━\u001b[0m\u001b[37m\u001b[0m \u001b[1m5s\u001b[0m 2ms/step - accuracy: 0.9959 - loss: 0.0125 - val_accuracy: 0.9833 - val_loss: 0.0943\n",
            "Epoch 23/30\n",
            "\u001b[1m1149/1149\u001b[0m \u001b[32m━━━━━━━━━━━━━━━━━━━━\u001b[0m\u001b[37m\u001b[0m \u001b[1m4s\u001b[0m 3ms/step - accuracy: 0.9960 - loss: 0.0128 - val_accuracy: 0.9815 - val_loss: 0.1012\n",
            "Epoch 24/30\n",
            "\u001b[1m1149/1149\u001b[0m \u001b[32m━━━━━━━━━━━━━━━━━━━━\u001b[0m\u001b[37m\u001b[0m \u001b[1m4s\u001b[0m 2ms/step - accuracy: 0.9944 - loss: 0.0158 - val_accuracy: 0.9844 - val_loss: 0.0938\n",
            "Epoch 25/30\n",
            "\u001b[1m1149/1149\u001b[0m \u001b[32m━━━━━━━━━━━━━━━━━━━━\u001b[0m\u001b[37m\u001b[0m \u001b[1m3s\u001b[0m 2ms/step - accuracy: 0.9963 - loss: 0.0121 - val_accuracy: 0.9827 - val_loss: 0.1019\n",
            "Epoch 26/30\n",
            "\u001b[1m1149/1149\u001b[0m \u001b[32m━━━━━━━━━━━━━━━━━━━━\u001b[0m\u001b[37m\u001b[0m \u001b[1m6s\u001b[0m 3ms/step - accuracy: 0.9960 - loss: 0.0118 - val_accuracy: 0.9822 - val_loss: 0.1092\n",
            "Epoch 27/30\n",
            "\u001b[1m1149/1149\u001b[0m \u001b[32m━━━━━━━━━━━━━━━━━━━━\u001b[0m\u001b[37m\u001b[0m \u001b[1m4s\u001b[0m 2ms/step - accuracy: 0.9964 - loss: 0.0118 - val_accuracy: 0.9812 - val_loss: 0.1064\n",
            "Epoch 28/30\n",
            "\u001b[1m1149/1149\u001b[0m \u001b[32m━━━━━━━━━━━━━━━━━━━━\u001b[0m\u001b[37m\u001b[0m \u001b[1m3s\u001b[0m 2ms/step - accuracy: 0.9958 - loss: 0.0119 - val_accuracy: 0.9832 - val_loss: 0.0964\n",
            "Epoch 29/30\n",
            "\u001b[1m1149/1149\u001b[0m \u001b[32m━━━━━━━━━━━━━━━━━━━━\u001b[0m\u001b[37m\u001b[0m \u001b[1m6s\u001b[0m 3ms/step - accuracy: 0.9959 - loss: 0.0120 - val_accuracy: 0.9808 - val_loss: 0.1077\n",
            "Epoch 30/30\n",
            "\u001b[1m1149/1149\u001b[0m \u001b[32m━━━━━━━━━━━━━━━━━━━━\u001b[0m\u001b[37m\u001b[0m \u001b[1m4s\u001b[0m 2ms/step - accuracy: 0.9967 - loss: 0.0103 - val_accuracy: 0.9806 - val_loss: 0.1156\n"
          ]
        },
        {
          "output_type": "execute_result",
          "data": {
            "text/plain": [
              "<keras.src.callbacks.history.History at 0x79e57c33c190>"
            ]
          },
          "metadata": {},
          "execution_count": 22
        }
      ]
    },
    {
      "cell_type": "markdown",
      "source": [
        "**Testing the model**"
      ],
      "metadata": {
        "id": "ohTq4WMEBEmE"
      }
    },
    {
      "cell_type": "code",
      "source": [
        "image_index = 10\n",
        "#print(\"Original output:\",y_test[image_index])\n",
        "plt.imshow(x_test[image_index].reshape(28,28), cmap='Greys')\n",
        "pred = model.predict(x_test[image_index].reshape(1,28,28,1))\n",
        "print(\"Predicted output:\", pred.argmax())"
      ],
      "metadata": {
        "colab": {
          "base_uri": "https://localhost:8080/",
          "height": 465
        },
        "id": "ipZRgsTQBBqd",
        "outputId": "17ab9780-da99-482b-ed6d-63e69b74ed20"
      },
      "execution_count": null,
      "outputs": [
        {
          "output_type": "stream",
          "name": "stdout",
          "text": [
            "\u001b[1m1/1\u001b[0m \u001b[32m━━━━━━━━━━━━━━━━━━━━\u001b[0m\u001b[37m\u001b[0m \u001b[1m0s\u001b[0m 18ms/step\n",
            "Predicted output: 1\n"
          ]
        },
        {
          "output_type": "display_data",
          "data": {
            "text/plain": [
              "<Figure size 640x480 with 1 Axes>"
            ],
            "image/png": "[encoded data removed]"
          },
          "metadata": {}
        }
      ]
    },
    {
      "cell_type": "code",
      "source": [
        "image_index = 100\n",
        "# print(\"Original output:\",y_test[image_index])\n",
        "plt.imshow(x_test[image_index].reshape(28,28), cmap='Greys')\n",
        "pred = model.predict(x_test[image_index].reshape(1,28,28,1))\n",
        "print(\"Predicted output:\", pred.argmax())"
      ],
      "metadata": {
        "colab": {
          "base_uri": "https://localhost:8080/",
          "height": 465
        },
        "id": "uZLQxSyjBI8c",
        "outputId": "58e93f56-0064-46a7-814d-4b9332ce1a3b"
      },
      "execution_count": null,
      "outputs": [
        {
          "output_type": "stream",
          "name": "stdout",
          "text": [
            "\u001b[1m1/1\u001b[0m \u001b[32m━━━━━━━━━━━━━━━━━━━━\u001b[0m\u001b[37m\u001b[0m \u001b[1m0s\u001b[0m 16ms/step\n",
            "Predicted output: 8\n"
          ]
        },
        {
          "output_type": "display_data",
          "data": {
            "text/plain": [
              "<Figure size 640x480 with 1 Axes>"
            ],
            "image/png": "[encoded data removed]"
          },
          "metadata": {}
        }
      ]
    },
    {
      "cell_type": "code",
      "source": [],
      "metadata": {
        "id": "5yNO0VnHBL-E"
      },
      "execution_count": null,
      "outputs": []
    }
  ]
}